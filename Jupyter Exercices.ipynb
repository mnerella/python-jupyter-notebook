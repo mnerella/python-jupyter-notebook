{
 "cells": [
  {
   "cell_type": "code",
   "execution_count": null,
   "metadata": {},
   "outputs": [],
   "source": [
    "#exercise 1\n",
    "\n",
    "#Demo of strings\n",
    "\n",
    "first_name = 'Meghana'\n",
    "last_name ='Nerella'\n",
    "\n",
    "print(first_name + last_name)\n",
    "print('Hello,  '+ first_name +' ' + last_name)"
   ]
  },
  {
   "cell_type": "code",
   "execution_count": null,
   "metadata": {},
   "outputs": [],
   "source": [
    "#exercise 2\n",
    "#Formatting Strings\n",
    "\n",
    "#There are multiple ways to do string concatination.\n",
    "output = 'Hello,  '+ first_name +' ' + last_name\n",
    "output = 'Hello, {} {}' .format (first_name, last_name)\n",
    "output = 'Hello, {0} {1}' .format (first_name, last_name)\n",
    "###########\n",
    "first_name = 'Meghana'\n",
    "last_name ='Nerella'\n",
    "output = f'Hello, {first_name} {last_name}'\n",
    "print(output)\n",
    "\n"
   ]
  },
  {
   "cell_type": "code",
   "execution_count": 16,
   "metadata": {},
   "outputs": [
    {
     "name": "stdout",
     "output_type": "stream",
     "text": [
      "3.14\n",
      "28days in Feburary\n"
     ]
    }
   ],
   "source": [
    "#exericse 3 (WORKING WITH NUMBERS)\n",
    "\n",
    "#Just like stings numbers can be stored in variables\n",
    "pi = 3.14\n",
    "print(pi)\n",
    "\n",
    "#we can do math with the numbers\n",
    "first_number = 5\n",
    "second_number = 5\n",
    "print(first_number + second_number)\n",
    "print(first_number ** second_number)\n",
    "\n",
    "#If you combine string with numbers python gets confused,for example \n",
    "days_in_feb = 28\n",
    "print(days_in_feb + 'days in Feburary')\n",
    "\n",
    "#then it will throw a error saying \" TypeError: unsupported operand type(s) for +: 'int' and 'str' \"\n",
    "\n",
    "#when displaying a string that contains numbers you must convert the numbers into strings\n",
    "days_in_feb = 28\n",
    "print(str(days_in_feb) + 'days in Feburary')\n",
    "\n"
   ]
  },
  {
   "cell_type": "code",
   "execution_count": 1,
   "metadata": {},
   "outputs": [
    {
     "name": "stdout",
     "output_type": "stream",
     "text": [
      "Today is :2019-10-01 15:02:32.904200\n",
      "2019-10-01\n",
      "2019-09-30\n",
      "Today is :2019-10-01 15:02:32.904200\n",
      "Last week was :2019-09-24 15:02:32.905197\n",
      "Day:1\n",
      "Month:10\n",
      "Year:2019\n",
      "Hour:15\n",
      "Minute:2\n",
      "Second:32\n"
     ]
    }
   ],
   "source": [
    "# exercise 4 (Date function)\n",
    "\n",
    "# To get current date and time we need to use datetime library\n",
    "from datetime import datetime \n",
    "\n",
    "current_date = datetime.now()\n",
    "#  the now function returns current date and time as datetime object\n",
    "\n",
    "# you must convert datetime object to a string before you can cancatenate it to another string\n",
    "print('Today is :' + str(current_date))\n",
    "\n",
    "# you can use timedelta to add or remove days , or week to a date \n",
    "from datetime import date, timedelta\n",
    "today = date.today()\n",
    "yesterday = today - timedelta(days = 1)\n",
    "print(today)\n",
    "print(yesterday)\n",
    "\n",
    "# from datetime import date, timedelta\n",
    "today = datetime.now()\n",
    "print('Today is :' + str(current_date))\n",
    "one_week = timedelta(weeks=1)\n",
    "last_week = today - one_week\n",
    "print('Last week was :' + str(last_week))\n",
    "\n",
    "# To get current date and time we need to use datetime library\n",
    "from datetime import datetime \n",
    "\n",
    "# the now function returns current date and time as datetime object\n",
    "current_date = datetime.now()\n",
    "\n",
    "# #FORMAT DATE\n",
    "# #use day, month , year , hour , minute , seconds fuctions to display only part of the date \n",
    "# #all these functions return integer , convert them into strings before concatenating them to another string\n",
    "\n",
    "print('Day:' + str(today.day))\n",
    "print('Month:' + str(today.month))\n",
    "print('Year:' + str(today.year))\n",
    "\n",
    "print('Hour:' + str(today.hour))\n",
    "print('Minute:' + str(today.minute))\n",
    "print('Second:' + str(today.second))\n",
    "\n",
    "\n",
    "\n",
    "\n"
   ]
  },
  {
   "cell_type": "code",
   "execution_count": null,
   "metadata": {
    "scrolled": false
   },
   "outputs": [],
   "source": [
    "#When you want to read a date from a datebase or file or user , it is treated as a string when it is read by python\n",
    "# but to use this datetime functions they should be datetime datatype , so we need to convert them from string to date \n",
    "#so we use srtptime function, this strptime strips elements out of the strinf and converts them into datetime datatype \n",
    "\n",
    "from datetime import datetime, timedelta\n",
    "birthday = input ('When is your birthday (dd/mm/yyyy)?')\n",
    "birthday_date = datetime.strptime(birthday, '%d/%m/%Y')\n",
    "\n",
    "print ('Birthday:' +str(birthday_date) )\n",
    "one_day = timedelta(days=1)\n",
    "birthday_evng = birthday_date - one_day\n",
    "print ('Day before birthday:' +str(birthday_evng))"
   ]
  },
  {
   "cell_type": "code",
   "execution_count": null,
   "metadata": {},
   "outputs": [],
   "source": []
  },
  {
   "cell_type": "code",
   "execution_count": null,
   "metadata": {},
   "outputs": [],
   "source": []
  },
  {
   "cell_type": "code",
   "execution_count": null,
   "metadata": {},
   "outputs": [],
   "source": []
  }
 ],
 "metadata": {
  "kernelspec": {
   "display_name": "Python 3",
   "language": "python",
   "name": "python3"
  },
  "language_info": {
   "codemirror_mode": {
    "name": "ipython",
    "version": 3
   },
   "file_extension": ".py",
   "mimetype": "text/x-python",
   "name": "python",
   "nbconvert_exporter": "python",
   "pygments_lexer": "ipython3",
   "version": "3.7.3"
  }
 },
 "nbformat": 4,
 "nbformat_minor": 2
}
